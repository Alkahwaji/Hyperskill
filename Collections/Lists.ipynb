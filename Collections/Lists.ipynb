{
 "cells": [
  {
   "cell_type": "markdown",
   "metadata": {},
   "source": [
    "## Lists \n",
    "<ol>\n",
    "    <li> ordered </li>\n",
    "    <li> iterate </li>\n",
    "    <li> duplicate </li>\n",
    "    <li> different kinds of data </li>\n",
    "</ol>\n",
    "        "
   ]
  },
  {
   "cell_type": "code",
   "execution_count": 1,
   "metadata": {},
   "outputs": [],
   "source": [
    "#Lists\n",
    "names = ['Ali','Emad', 'Mohammad', 'Ziad']"
   ]
  },
  {
   "cell_type": "code",
   "execution_count": 5,
   "metadata": {},
   "outputs": [
    {
     "name": "stdout",
     "output_type": "stream",
     "text": [
      "['d', 'a', 'n', 'g', 'e', 'r', '!']\n"
     ]
    }
   ],
   "source": [
    "#list function\n",
    "danger = list('danger!')\n",
    "print(danger)"
   ]
  },
  {
   "cell_type": "code",
   "execution_count": 8,
   "metadata": {},
   "outputs": [
    {
     "name": "stdout",
     "output_type": "stream",
     "text": [
      "[]\n",
      "[]\n"
     ]
    }
   ],
   "source": [
    "#Empty list\n",
    "e_list = list()\n",
    "e_list1 = []\n",
    "print(e_list)\n",
    "print(e_list1)"
   ]
  },
  {
   "cell_type": "code",
   "execution_count": 11,
   "metadata": {},
   "outputs": [
    {
     "data": {
      "text/plain": [
       "[1, 2, 3]"
      ]
     },
     "execution_count": 11,
     "metadata": {},
     "output_type": "execute_result"
    }
   ],
   "source": [
    "k = {1:'mana',2:'yoyo',3:'zizo'}\n",
    "list(k)"
   ]
  },
  {
   "cell_type": "code",
   "execution_count": 13,
   "metadata": {},
   "outputs": [
    {
     "name": "stdout",
     "output_type": "stream",
     "text": [
      "['ON', 'OFF', 'ON', 'OFF', 'ON']\n"
     ]
    }
   ],
   "source": [
    "#dubplicate\n",
    "switch = ['ON','OFF','ON','OFF','ON']\n",
    "print(switch)"
   ]
  },
  {
   "cell_type": "code",
   "execution_count": 18,
   "metadata": {},
   "outputs": [
    {
     "name": "stdout",
     "output_type": "stream",
     "text": [
      "{'OFF', 'ON'}\n"
     ]
    }
   ],
   "source": [
    "s = set(switch) #set no duplicate\n",
    "print(s)"
   ]
  }
 ],
 "metadata": {
  "kernelspec": {
   "display_name": "Python 3",
   "language": "python",
   "name": "python3"
  },
  "language_info": {
   "codemirror_mode": {
    "name": "ipython",
    "version": 3
   },
   "file_extension": ".py",
   "mimetype": "text/x-python",
   "name": "python",
   "nbconvert_exporter": "python",
   "pygments_lexer": "ipython3",
   "version": "3.7.3"
  }
 },
 "nbformat": 4,
 "nbformat_minor": 2
}
