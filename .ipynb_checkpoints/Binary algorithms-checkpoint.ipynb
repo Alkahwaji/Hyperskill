{
 "cells": [
  {
   "cell_type": "code",
   "execution_count": 1,
   "metadata": {},
   "outputs": [],
   "source": [
    "a = [10,15,16,21,25,26,31,35,41]"
   ]
  },
  {
   "cell_type": "code",
   "execution_count": 4,
   "metadata": {},
   "outputs": [],
   "source": [
    "#iterative code\n",
    "def iterative_binary(elements, target):\n",
    "    left, right = 0, len(elements)-1\n",
    "\n",
    "    while left <= right:\n",
    "        middle = (left+right) // 2\n",
    "\n",
    "        if elements[middle]==target:\n",
    "            return middle #the index inside the list\n",
    "        elif target <elements[middle]:\n",
    "            right = middle-1\n",
    "        else:\n",
    "            left = middle+1\n",
    "    return -1 # Indicate the target element is not found"
   ]
  },
  {
   "cell_type": "code",
   "execution_count": 8,
   "metadata": {},
   "outputs": [
    {
     "data": {
      "text/plain": [
       "1"
      ]
     },
     "execution_count": 8,
     "metadata": {},
     "output_type": "execute_result"
    }
   ],
   "source": [
    "iterative_binary(a,15)"
   ]
  },
  {
   "cell_type": "code",
   "execution_count": 21,
   "metadata": {},
   "outputs": [],
   "source": [
    "#recursive code\n",
    "def recursive_binary(elements, target, left, right):\n",
    "    if left > right:\n",
    "        return -1\n",
    "    middle = (left+right)//2\n",
    "       \n",
    "        \n",
    "    if target == elements[middle]:\n",
    "        return middle\n",
    "    elif target < elements[middle]:\n",
    "        return recursive_binary(elements,target,left, middle-1)\n",
    "    else:\n",
    "        return recursive_binary(elements,target, middle+1, right)"
   ]
  },
  {
   "cell_type": "code",
   "execution_count": 22,
   "metadata": {},
   "outputs": [
    {
     "data": {
      "text/plain": [
       "8"
      ]
     },
     "execution_count": 22,
     "metadata": {},
     "output_type": "execute_result"
    }
   ],
   "source": [
    "recursive_binary(a,41,left=0,right=len(a)-1)"
   ]
  }
 ],
 "metadata": {
  "kernelspec": {
   "display_name": "Python 3",
   "language": "python",
   "name": "python3"
  },
  "language_info": {
   "codemirror_mode": {
    "name": "ipython",
    "version": 3
   },
   "file_extension": ".py",
   "mimetype": "text/x-python",
   "name": "python",
   "nbconvert_exporter": "python",
   "pygments_lexer": "ipython3",
   "version": "3.7.3"
  }
 },
 "nbformat": 4,
 "nbformat_minor": 2
}
